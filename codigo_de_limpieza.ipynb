{
 "cells": [
  {
   "cell_type": "code",
   "execution_count": 1,
   "id": "fc5d16eb",
   "metadata": {},
   "outputs": [
    {
     "data": {
      "text/html": [
       "<div>\n",
       "<style scoped>\n",
       "    .dataframe tbody tr th:only-of-type {\n",
       "        vertical-align: middle;\n",
       "    }\n",
       "\n",
       "    .dataframe tbody tr th {\n",
       "        vertical-align: top;\n",
       "    }\n",
       "\n",
       "    .dataframe thead th {\n",
       "        text-align: right;\n",
       "    }\n",
       "</style>\n",
       "<table border=\"1\" class=\"dataframe\">\n",
       "  <thead>\n",
       "    <tr style=\"text-align: right;\">\n",
       "      <th></th>\n",
       "      <th>student_id</th>\n",
       "      <th>weekly_self_study_hours</th>\n",
       "      <th>attendance_percentage</th>\n",
       "      <th>class_participation</th>\n",
       "      <th>total_score</th>\n",
       "      <th>grade</th>\n",
       "    </tr>\n",
       "  </thead>\n",
       "  <tbody>\n",
       "    <tr>\n",
       "      <th>0</th>\n",
       "      <td>1</td>\n",
       "      <td>18.5</td>\n",
       "      <td>95.6</td>\n",
       "      <td>3.8</td>\n",
       "      <td>97.9</td>\n",
       "      <td>A</td>\n",
       "    </tr>\n",
       "    <tr>\n",
       "      <th>1</th>\n",
       "      <td>2</td>\n",
       "      <td>14.0</td>\n",
       "      <td>80.0</td>\n",
       "      <td>2.5</td>\n",
       "      <td>83.9</td>\n",
       "      <td>B</td>\n",
       "    </tr>\n",
       "    <tr>\n",
       "      <th>2</th>\n",
       "      <td>3</td>\n",
       "      <td>19.5</td>\n",
       "      <td>86.3</td>\n",
       "      <td>5.3</td>\n",
       "      <td>100.0</td>\n",
       "      <td>A</td>\n",
       "    </tr>\n",
       "    <tr>\n",
       "      <th>3</th>\n",
       "      <td>4</td>\n",
       "      <td>25.7</td>\n",
       "      <td>NaN</td>\n",
       "      <td>7.0</td>\n",
       "      <td>NaN</td>\n",
       "      <td>A</td>\n",
       "    </tr>\n",
       "    <tr>\n",
       "      <th>4</th>\n",
       "      <td>5</td>\n",
       "      <td>13.4</td>\n",
       "      <td>81.9</td>\n",
       "      <td>6.9</td>\n",
       "      <td>92.0</td>\n",
       "      <td>A</td>\n",
       "    </tr>\n",
       "    <tr>\n",
       "      <th>...</th>\n",
       "      <td>...</td>\n",
       "      <td>...</td>\n",
       "      <td>...</td>\n",
       "      <td>...</td>\n",
       "      <td>...</td>\n",
       "      <td>...</td>\n",
       "    </tr>\n",
       "    <tr>\n",
       "      <th>1098787</th>\n",
       "      <td>96493</td>\n",
       "      <td>1.3</td>\n",
       "      <td>62.4</td>\n",
       "      <td>5.2</td>\n",
       "      <td>28.8</td>\n",
       "      <td>F</td>\n",
       "    </tr>\n",
       "    <tr>\n",
       "      <th>1098788</th>\n",
       "      <td>509632</td>\n",
       "      <td>16.1</td>\n",
       "      <td>71.6</td>\n",
       "      <td>7.0</td>\n",
       "      <td>93.0</td>\n",
       "      <td>A</td>\n",
       "    </tr>\n",
       "    <tr>\n",
       "      <th>1098789</th>\n",
       "      <td>565195</td>\n",
       "      <td>19.4</td>\n",
       "      <td>72.9</td>\n",
       "      <td>9.8</td>\n",
       "      <td>100.0</td>\n",
       "      <td>A</td>\n",
       "    </tr>\n",
       "    <tr>\n",
       "      <th>1098790</th>\n",
       "      <td>283407</td>\n",
       "      <td>23.6</td>\n",
       "      <td>97.5</td>\n",
       "      <td>3.0</td>\n",
       "      <td>100.0</td>\n",
       "      <td>A</td>\n",
       "    </tr>\n",
       "    <tr>\n",
       "      <th>1098791</th>\n",
       "      <td>640702</td>\n",
       "      <td>10.7</td>\n",
       "      <td>79.8</td>\n",
       "      <td>9.8</td>\n",
       "      <td>72.7</td>\n",
       "      <td>B</td>\n",
       "    </tr>\n",
       "  </tbody>\n",
       "</table>\n",
       "<p>1098792 rows × 6 columns</p>\n",
       "</div>"
      ],
      "text/plain": [
       "        student_id weekly_self_study_hours  attendance_percentage  \\\n",
       "0                1                    18.5                   95.6   \n",
       "1                2                    14.0                   80.0   \n",
       "2                3                    19.5                   86.3   \n",
       "3                4                    25.7                    NaN   \n",
       "4                5                    13.4                   81.9   \n",
       "...            ...                     ...                    ...   \n",
       "1098787      96493                     1.3                   62.4   \n",
       "1098788     509632                    16.1                   71.6   \n",
       "1098789     565195                    19.4                   72.9   \n",
       "1098790     283407                    23.6                   97.5   \n",
       "1098791     640702                    10.7                   79.8   \n",
       "\n",
       "        class_participation  total_score grade  \n",
       "0                       3.8         97.9     A  \n",
       "1                       2.5         83.9     B  \n",
       "2                       5.3        100.0     A  \n",
       "3                       7.0          NaN     A  \n",
       "4                       6.9         92.0     A  \n",
       "...                     ...          ...   ...  \n",
       "1098787                 5.2         28.8     F  \n",
       "1098788                 7.0         93.0     A  \n",
       "1098789                 9.8        100.0     A  \n",
       "1098790                 3.0        100.0     A  \n",
       "1098791                 9.8         72.7     B  \n",
       "\n",
       "[1098792 rows x 6 columns]"
      ]
     },
     "execution_count": 1,
     "metadata": {},
     "output_type": "execute_result"
    }
   ],
   "source": [
    "import pandas as pd \n",
    "\n",
    "df=pd.read_csv(\"df_sucio.csv\")\n",
    "df"
   ]
  },
  {
   "cell_type": "code",
   "execution_count": 2,
   "id": "86f32175",
   "metadata": {},
   "outputs": [
    {
     "data": {
      "text/plain": [
       "student_id                 32963\n",
       "weekly_self_study_hours    32963\n",
       "attendance_percentage      32963\n",
       "class_participation        32963\n",
       "total_score                32963\n",
       "grade                      32963\n",
       "dtype: int64"
      ]
     },
     "execution_count": 2,
     "metadata": {},
     "output_type": "execute_result"
    }
   ],
   "source": [
    "\n",
    "#cuantos valores faltan por columna \n",
    "df.isnull().sum()"
   ]
  },
  {
   "cell_type": "code",
   "execution_count": 3,
   "id": "c13d4c03",
   "metadata": {},
   "outputs": [
    {
     "data": {
      "text/plain": [
       "np.int64(61949)"
      ]
     },
     "execution_count": 3,
     "metadata": {},
     "output_type": "execute_result"
    }
   ],
   "source": [
    "#ver cuantos duplicados hay \n",
    "df.duplicated().sum()"
   ]
  },
  {
   "cell_type": "markdown",
   "id": "067c9e5d",
   "metadata": {},
   "source": [
    "vemos que hay 61949  valores duplicados por lo que procederemos a eliminarlos con\"drop_duplicates()\" coomo se muestra acontinuacion:"
   ]
  },
  {
   "cell_type": "code",
   "execution_count": null,
   "id": "bc5e62e0",
   "metadata": {},
   "outputs": [],
   "source": [
    "#eliminar duplicados , pero sin modificar la version original de la base sicia obteniendo asi df2\n",
    "df2=df.drop_duplicates()"
   ]
  },
  {
   "cell_type": "code",
   "execution_count": 5,
   "id": "bab7525c",
   "metadata": {},
   "outputs": [
    {
     "data": {
      "text/plain": [
       "np.int64(0)"
      ]
     },
     "execution_count": 5,
     "metadata": {},
     "output_type": "execute_result"
    }
   ],
   "source": [
    "#verificar cuantos duplicados quedan\n",
    "df2.duplicated().sum()"
   ]
  },
  {
   "cell_type": "code",
   "execution_count": 30,
   "id": "8f628a69",
   "metadata": {},
   "outputs": [],
   "source": [
    "# reiniciar indice \n",
    "df2= df2.reset_index(drop=True)\n"
   ]
  },
  {
   "cell_type": "code",
   "execution_count": 7,
   "id": "42d8637e",
   "metadata": {},
   "outputs": [
    {
     "name": "stdout",
     "output_type": "stream",
     "text": [
      "<class 'pandas.core.frame.DataFrame'>\n",
      "RangeIndex: 1036843 entries, 0 to 1036842\n",
      "Data columns (total 6 columns):\n",
      " #   Column                   Non-Null Count    Dtype  \n",
      "---  ------                   --------------    -----  \n",
      " 0   student_id               1003961 non-null  object \n",
      " 1   weekly_self_study_hours  1003950 non-null  object \n",
      " 2   attendance_percentage    1003936 non-null  float64\n",
      " 3   class_participation      1003943 non-null  object \n",
      " 4   total_score              1003938 non-null  float64\n",
      " 5   grade                    1003954 non-null  object \n",
      "dtypes: float64(2), object(4)\n",
      "memory usage: 47.5+ MB\n"
     ]
    }
   ],
   "source": [
    "df2.info()"
   ]
  },
  {
   "cell_type": "code",
   "execution_count": null,
   "id": "2a8fb17a",
   "metadata": {},
   "outputs": [
    {
     "name": "stdout",
     "output_type": "stream",
     "text": [
      "<class 'pandas.core.frame.DataFrame'>\n",
      "RangeIndex: 1098792 entries, 0 to 1098791\n",
      "Data columns (total 6 columns):\n",
      " #   Column                   Non-Null Count    Dtype  \n",
      "---  ------                   --------------    -----  \n",
      " 0   student_id               1065829 non-null  object \n",
      " 1   weekly_self_study_hours  1065829 non-null  object \n",
      " 2   attendance_percentage    1065829 non-null  float64\n",
      " 3   class_participation      1065829 non-null  object \n",
      " 4   total_score              1065829 non-null  float64\n",
      " 5   grade                    1065829 non-null  object \n",
      "dtypes: float64(2), object(4)\n",
      "memory usage: 50.3+ MB\n"
     ]
    }
   ],
   "source": [
    "#vemos el tipo de datos que tiene cada columna y el numero de datos \"No nulos\", ademas el numero de columna y su nombre \n",
    "df.info()\n"
   ]
  },
  {
   "cell_type": "markdown",
   "id": "6d4a0711",
   "metadata": {},
   "source": [
    "ahora procederemos a  convertir columnas numericas a tipo float , a excepcion de \"student_id\" debido a que es un identificador por lo cual se quedara como tipo entero \"int\""
   ]
  },
  {
   "cell_type": "code",
   "execution_count": 12,
   "id": "f3d995a6",
   "metadata": {},
   "outputs": [],
   "source": [
    "#aqui convertiremos columnas que sean numericas a float \n",
    "# Columnas que deben ser numéricas (con posibles decimales)\n",
    "float_cols = [\n",
    "    \"weekly_self_study_hours\",\n",
    "    \"attendance_percentage\",\n",
    "    \"class_participation\",\n",
    "    \"total_score\"\n",
    "]\n",
    "\n",
    "# Limpieza y conversión a tipo float\n",
    "for c in float_cols:\n",
    "    df2[c] = (df2[c].astype(str)                      # Convertir todo a texto\n",
    "                     .str.strip()                      # Eliminar espacios\n",
    "                     .str.replace(\",\", \".\", regex=False)  # Cambiar comas por puntos\n",
    "                     .str.replace(\"%\", \"\", regex=False))  # Eliminar el símbolo %\n",
    "    \n",
    "    df2[c] = pd.to_numeric(df2[c], errors=\"coerce\")    # Convertir a número (NaN si falla)"
   ]
  },
  {
   "cell_type": "markdown",
   "id": "1373afe5",
   "metadata": {},
   "source": [
    "Ahora remplazaremos los valores nulos \"NaN\" con fillna , esto con el datos de la mediana:"
   ]
  },
  {
   "cell_type": "code",
   "execution_count": 13,
   "id": "15086c03",
   "metadata": {},
   "outputs": [],
   "source": [
    "# Reemplazamos los NaN en columnas numéricas por su mediana\n",
    "for c in float_cols:\n",
    "    df2[c] = df2[c].fillna(df2[c].median())"
   ]
  },
  {
   "cell_type": "markdown",
   "id": "8ada9126",
   "metadata": {},
   "source": [
    "Aqui se convertira la columna \"student_id\" a tipo int ya que es un id , si falla convierte cualquier valor no numerico a NaN, para su posteiror remplazo con "
   ]
  },
  {
   "cell_type": "code",
   "execution_count": 14,
   "id": "8b99e7aa",
   "metadata": {},
   "outputs": [],
   "source": [
    "# Convertir student_id a tipo entero (acepta NaN con Int64)\n",
    "df2[\"student_id\"] = pd.to_numeric(df2[\"student_id\"], errors=\"coerce\").astype(\"Int64\")"
   ]
  },
  {
   "cell_type": "markdown",
   "id": "0451fb8a",
   "metadata": {},
   "source": [
    "Ahora buscaremos convertir la columna \"grade\" a tipo category ya que son datos que se pueden categorizar y algunos se puden llegar  a repetir "
   ]
  },
  {
   "cell_type": "code",
   "execution_count": 15,
   "id": "481b1aa0",
   "metadata": {},
   "outputs": [],
   "source": [
    "# Limpiar y convertir las calificaciones a categoría\n",
    "df2[\"grade\"] = (df2[\"grade\"]\n",
    "                    .astype(str)\n",
    "                    .str.strip()\n",
    "                    .str.upper()\n",
    "                    .astype(\"category\"))"
   ]
  },
  {
   "cell_type": "code",
   "execution_count": null,
   "id": "228a40bd",
   "metadata": {},
   "outputs": [
    {
     "name": "stdout",
     "output_type": "stream",
     "text": [
      "🔹 Tipos de datos finales:\n",
      "student_id                    Int64\n",
      "weekly_self_study_hours     float64\n",
      "attendance_percentage       float64\n",
      "class_participation         float64\n",
      "total_score                 float64\n",
      "grade                      category\n",
      "dtype: object\n",
      "\n",
      "🔹 Valores faltantes por columna:\n",
      "student_id                 0\n",
      "weekly_self_study_hours    0\n",
      "attendance_percentage      0\n",
      "class_participation        0\n",
      "total_score                0\n",
      "grade                      0\n",
      "dtype: int64\n",
      "\n",
      "🔹 Dimensiones del DataFrame: (1036843, 6)\n"
     ]
    }
   ],
   "source": [
    "#vemos el tipo de dato de cada columna y el numoero de valores nulos que hay en cada una de ellas \n",
    "print(\"🔹 Tipos de datos finales:\")\n",
    "print(df2.dtypes)\n",
    "\n",
    "print(\"\\n🔹 Valores faltantes por columna:\")\n",
    "print(df2.isnull().sum())\n",
    "\n",
    "print(\"\\n🔹 Dimensiones del DataFrame:\", df2.shape)"
   ]
  },
  {
   "cell_type": "markdown",
   "id": "2940e0ca",
   "metadata": {},
   "source": [
    "con el siguiente codigo nos aseguramos que todos los valroes de studen_id sean enteros y que no haya valores faltantes , y si es que los hay se rellenan  con ids nuevos y consecutivos sin modificar los que ya estaban "
   ]
  },
  {
   "cell_type": "code",
   "execution_count": 18,
   "id": "ab97480e",
   "metadata": {},
   "outputs": [],
   "source": [
    "# Asegura tipo entero con NaN permitido\n",
    "df2[\"student_id\"] = pd.to_numeric(df2[\"student_id\"], errors=\"coerce\").astype(\"Int64\")\n",
    "\n",
    "mask = df2[\"student_id\"].isna()\n",
    "start = (df2[\"student_id\"].max() or 0) + 1  # siguiente ID libre\n",
    "df2.loc[mask, \"student_id\"] = pd.RangeIndex(start, start + mask.sum())\n",
    "df2[\"student_id\"] = df2[\"student_id\"].astype(\"Int64\")"
   ]
  },
  {
   "cell_type": "code",
   "execution_count": 31,
   "id": "e8449b80",
   "metadata": {},
   "outputs": [
    {
     "name": "stdout",
     "output_type": "stream",
     "text": [
      "<class 'pandas.core.frame.DataFrame'>\n",
      "RangeIndex: 1036843 entries, 0 to 1036842\n",
      "Data columns (total 6 columns):\n",
      " #   Column                   Non-Null Count    Dtype   \n",
      "---  ------                   --------------    -----   \n",
      " 0   student_id               1036843 non-null  Int64   \n",
      " 1   weekly_self_study_hours  1036843 non-null  float64 \n",
      " 2   attendance_percentage    1036843 non-null  float64 \n",
      " 3   class_participation      1036843 non-null  float64 \n",
      " 4   total_score              1036843 non-null  float64 \n",
      " 5   grade                    1036843 non-null  category\n",
      "dtypes: Int64(1), category(1), float64(4)\n",
      "memory usage: 41.5 MB\n"
     ]
    }
   ],
   "source": [
    "df2.info()"
   ]
  },
  {
   "cell_type": "markdown",
   "id": "a6aeb304",
   "metadata": {},
   "source": [
    "Aqui veremos los valores unicos de la columan \"grade\"  normalmente tiene  que aparecer valores NaN  "
   ]
  },
  {
   "cell_type": "code",
   "execution_count": null,
   "id": "c21d85ab",
   "metadata": {},
   "outputs": [
    {
     "data": {
      "text/plain": [
       "['A', 'B', 'C', 'D', 'F']\n",
       "Categories (5, object): ['A', 'B', 'C', 'D', 'F']"
      ]
     },
     "execution_count": 28,
     "metadata": {},
     "output_type": "execute_result"
    }
   ],
   "source": [
    "df2[\"grade\"].unique(), "
   ]
  },
  {
   "cell_type": "markdown",
   "id": "f0cb80ac",
   "metadata": {},
   "source": [
    "No se observo un valor nulo pero anteirormente si lo tenia por cual porcederemos a remplazarlos con fillna"
   ]
  },
  {
   "cell_type": "code",
   "execution_count": null,
   "id": "9c44f8cf",
   "metadata": {},
   "outputs": [
    {
     "name": "stdout",
     "output_type": "stream",
     "text": [
      "Únicos en grade: ['A', 'B', 'C', 'D', 'F']\n",
      "Categories (5, object): ['A', 'B', 'C', 'D', 'F']\n",
      "NaN en grade: 0\n",
      "category\n"
     ]
    }
   ],
   "source": [
    "import numpy as np\n",
    "\n",
    "# 1) Normalizar texto en grade (quitar espacios y poner mayúsculas)\n",
    "df2[\"grade\"] = df2[\"grade\"].astype(str).str.strip().str.upper()\n",
    "\n",
    "# 2) Convertir \"falsos NaN\" en NaN reales\n",
    "falsos_nan = {\"NAN\", \"NA\", \"NULL\", \"NONE\", \"\", \"N/A\", \" - \", \"-\"}\n",
    "df2[\"grade\"] = df2[\"grade\"].replace(list(falsos_nan), np.nan)\n",
    "\n",
    "# 3) (opcional) Limpiar variantes y mapear a A,B,C,D,F si hubiera -> en este caso mi base de datos solo contiene 5 categorias \n",
    "mapa = {\"A+\": \"A\", \"A-\":\"A\", \"B+\":\"B\", \"B-\":\"B\", \"C+\":\"C\", \"C-\":\"C\", \"D+\":\"D\", \"D-\":\"D\",\n",
    "        \"EXCELLENT\":\"A\", \"GOOD\":\"B\", \"AVERAGE\":\"C\", \"POOR\":\"D\", \"FAIL\":\"F\"}\n",
    "df2[\"grade\"] = df2[\"grade\"].replace(mapa)\n",
    "\n",
    "# 4) Imputar los NaN reales en grade con la moda (valor más frecuente)\n",
    "moda = df2[\"grade\"].mode(dropna=True)\n",
    "if len(moda):\n",
    "    df2[\"grade\"] = df2[\"grade\"].fillna(moda[0])\n",
    "\n",
    "# 5) Convertir a categoría\n",
    "df2[\"grade\"] = df2[\"grade\"].astype(\"category\")\n",
    "\n",
    "# 6) Verificar\n",
    "print(\"Únicos en grade:\", df2[\"grade\"].unique())\n",
    "print(\"NaN en grade:\", df2[\"grade\"].isna().sum())\n",
    "print(df2[\"grade\"].dtype)"
   ]
  },
  {
   "cell_type": "markdown",
   "id": "b0c84587",
   "metadata": {},
   "source": [
    "vemos que ahoara ya solo hay 5 categorias , cuando antes solo habia 6 contando NaN \n",
    "-----------------------------------------------------------------------------------\n",
    "\n",
    "\n",
    "\n",
    "Despues veremos si todavia hay duplicados y si es el caso se eliminaran "
   ]
  },
  {
   "cell_type": "code",
   "execution_count": 40,
   "id": "8b6a39a5",
   "metadata": {},
   "outputs": [
    {
     "data": {
      "text/plain": [
       "np.int64(0)"
      ]
     },
     "execution_count": 40,
     "metadata": {},
     "output_type": "execute_result"
    }
   ],
   "source": [
    "df2.duplicated().sum()"
   ]
  },
  {
   "cell_type": "code",
   "execution_count": 39,
   "id": "32ce1276",
   "metadata": {},
   "outputs": [],
   "source": [
    "df2= df2.drop_duplicates(keep=\"first\")"
   ]
  },
  {
   "cell_type": "code",
   "execution_count": 41,
   "id": "16efd6ad",
   "metadata": {},
   "outputs": [
    {
     "data": {
      "text/plain": [
       "student_id                 0\n",
       "weekly_self_study_hours    0\n",
       "attendance_percentage      0\n",
       "class_participation        0\n",
       "total_score                0\n",
       "grade                      0\n",
       "dtype: int64"
      ]
     },
     "execution_count": 41,
     "metadata": {},
     "output_type": "execute_result"
    }
   ],
   "source": [
    "df2.isnull().sum()"
   ]
  },
  {
   "cell_type": "code",
   "execution_count": 43,
   "id": "a6fb8735",
   "metadata": {},
   "outputs": [
    {
     "data": {
      "text/plain": [
       "(1034460, 6)"
      ]
     },
     "execution_count": 43,
     "metadata": {},
     "output_type": "execute_result"
    }
   ],
   "source": [
    "df2.shape"
   ]
  },
  {
   "cell_type": "markdown",
   "id": "9aac5b61",
   "metadata": {},
   "source": [
    "ver si un mismo id esta repetido con datos distintos."
   ]
  },
  {
   "cell_type": "code",
   "execution_count": 44,
   "id": "c7690089",
   "metadata": {},
   "outputs": [
    {
     "name": "stdout",
     "output_type": "stream",
     "text": [
      "Duplicados por student_id: 25389\n"
     ]
    }
   ],
   "source": [
    "duplicados_id = df2[\"student_id\"].duplicated().sum()\n",
    "print(\"Duplicados por student_id:\", duplicados_id)"
   ]
  },
  {
   "cell_type": "markdown",
   "id": "2e09684c",
   "metadata": {},
   "source": [
    "como si hay, vamos a elimirnalos dejando solo un id unico por estudiante "
   ]
  },
  {
   "cell_type": "code",
   "execution_count": null,
   "id": "cefb9bac",
   "metadata": {},
   "outputs": [],
   "source": [
    "df2 = df2.drop_duplicates(subset=[\"student_id\"], keep=\"first\")\n",
    "\n",
    "# y despues volbemos a verificar "
   ]
  },
  {
   "cell_type": "code",
   "execution_count": 46,
   "id": "e98aa844",
   "metadata": {},
   "outputs": [
    {
     "name": "stdout",
     "output_type": "stream",
     "text": [
      "Duplicados por student_id: 0\n"
     ]
    }
   ],
   "source": [
    "duplicados_id = df2[\"student_id\"].duplicated().sum()\n",
    "print(\"Duplicados por student_id:\", duplicados_id)"
   ]
  },
  {
   "cell_type": "markdown",
   "id": "aa97354b",
   "metadata": {},
   "source": [
    "Ahora usamos df2.info() para ver cauntos valores de mas tenemos y si es posible seguir reduciendo para tratar de que queden el mismo numero de valores que tenia la bsae orifinal cuando estaba limpia y antes de ensucuiarla."
   ]
  },
  {
   "cell_type": "code",
   "execution_count": 55,
   "id": "77600cd3",
   "metadata": {},
   "outputs": [
    {
     "data": {
      "text/plain": [
       "(1009071, 6)"
      ]
     },
     "execution_count": 55,
     "metadata": {},
     "output_type": "execute_result"
    }
   ],
   "source": [
    "df2.shape\n",
    "#como podemos ver hay 9071 datos extras "
   ]
  },
  {
   "cell_type": "markdown",
   "id": "72361250",
   "metadata": {},
   "source": [
    "vemos que hay aproximandamente 54127 ids de mas  que se conservaron debido a que las filas que no estaban duplicadas y que contenian NaN, los cuales no se eliminaron si no que se remplazaron por valores artificiales con fillna ,  "
   ]
  },
  {
   "cell_type": "code",
   "execution_count": 56,
   "id": "18c18158",
   "metadata": {},
   "outputs": [
    {
     "name": "stdout",
     "output_type": "stream",
     "text": [
      "Máximo ID: 1054127\n",
      "Mínimo ID: 1\n",
      "IDs únicos: 1009071\n",
      "Filas totales: 1009071\n"
     ]
    }
   ],
   "source": [
    "print(\"Máximo ID:\", df2[\"student_id\"].max())\n",
    "print(\"Mínimo ID:\", df2[\"student_id\"].min())\n",
    "print(\"IDs únicos:\", df2[\"student_id\"].nunique())\n",
    "print(\"Filas totales:\", len(df2))"
   ]
  },
  {
   "cell_type": "markdown",
   "id": "99b358e0",
   "metadata": {},
   "source": [
    "posteriormenete se aplico la siguiente linea de codigo para conservar solo las filas originales y nor las que se generaron artificialmemnte "
   ]
  },
  {
   "cell_type": "code",
   "execution_count": 57,
   "id": "754a16bd",
   "metadata": {},
   "outputs": [],
   "source": [
    "df2 = df2[df2[\"student_id\"] <= 1000000]"
   ]
  },
  {
   "cell_type": "code",
   "execution_count": 58,
   "id": "1b1d28f6",
   "metadata": {},
   "outputs": [
    {
     "name": "stdout",
     "output_type": "stream",
     "text": [
      "Filas finales: 954944\n",
      "Máximo ID: 1000000\n",
      "IDs únicos: 954944\n"
     ]
    }
   ],
   "source": [
    "print(\"Filas finales:\", len(df2))\n",
    "print(\"Máximo ID:\", df2[\"student_id\"].max())\n",
    "print(\"IDs únicos:\", df2[\"student_id\"].nunique())"
   ]
  },
  {
   "cell_type": "markdown",
   "id": "f4f227c9",
   "metadata": {},
   "source": [
    "Como vemos el dataset se depuro completamente , se eliminaron todos ids artificiales , ya no hay duplicados , "
   ]
  },
  {
   "cell_type": "code",
   "execution_count": null,
   "id": "b3a496b3",
   "metadata": {},
   "outputs": [
    {
     "data": {
      "text/plain": [
       "(954944, 6)"
      ]
     },
     "execution_count": 61,
     "metadata": {},
     "output_type": "execute_result"
    }
   ],
   "source": [
    "df2.shape"
   ]
  },
  {
   "cell_type": "code",
   "execution_count": 62,
   "id": "ea14ab7b",
   "metadata": {},
   "outputs": [],
   "source": [
    "df2.to_csv(\"dataset_limpio.csv\", index=False, encoding=\"utf-8\")"
   ]
  }
 ],
 "metadata": {
  "kernelspec": {
   "display_name": "Python 3",
   "language": "python",
   "name": "python3"
  },
  "language_info": {
   "codemirror_mode": {
    "name": "ipython",
    "version": 3
   },
   "file_extension": ".py",
   "mimetype": "text/x-python",
   "name": "python",
   "nbconvert_exporter": "python",
   "pygments_lexer": "ipython3",
   "version": "3.13.7"
  }
 },
 "nbformat": 4,
 "nbformat_minor": 5
}
